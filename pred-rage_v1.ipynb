{
 "cells": [
  {
   "cell_type": "code",
   "execution_count": 5,
   "metadata": {},
   "outputs": [
    {
     "name": "stdout",
     "output_type": "stream",
     "text": [
      "       0     1     2     3     4     5     6     7     8     9     ...  2312  \\\n",
      "0        11  1800  1040     2     1     3     1     8    14     1  ...     0   \n",
      "1        12  1000  1110     1     1     3     1     8    14     2  ...     0   \n",
      "2        13  1700  1140     1     1     3     1     8    14     3  ...     0   \n",
      "3        13  1700  1300     1     1     3     1     8    14     5  ...     0   \n",
      "4        16  2000  1335     2     1     3     1     8    14     6  ...     0   \n",
      "...     ...   ...   ...   ...   ...   ...   ...   ...   ...   ...  ...   ...   \n",
      "30262    18  1200  1355     2     1     1     2     9     1     8  ...     0   \n",
      "30263    16  1800  1425     2     1     1     2     9     1     9  ...     0   \n",
      "30264    16  1700  1501     1     1     1     4     9     1    10  ...     0   \n",
      "30265    14  1200  1535     2     1     4     2     9     1    11  ...     0   \n",
      "30266    16  2600  1615     2     1     4     2     9     1    12  ...     0   \n",
      "\n",
      "       2313  2314  2315  2316  2317  2318  2319  2320  2321  \n",
      "0       0.0   0.0     0     0     0   0.0     0   0.0     0  \n",
      "1       0.0   0.0     0     0     0   0.0     0   0.0     0  \n",
      "2       0.0   0.0     0     0     0   0.0     0   0.0     0  \n",
      "3       0.0   0.0     0     0     0   0.0     0   0.0     0  \n",
      "4       0.0   0.0     0     0     0   0.0     0   0.0     0  \n",
      "...     ...   ...   ...   ...   ...   ...   ...   ...   ...  \n",
      "30262  35.1   8.6     5   452    -2   0.0     2  68.6   180  \n",
      "30263   0.0   0.0     0     0     0   0.0     0   0.0     0  \n",
      "30264   0.0   0.0     0     0     0   0.0     0   0.0     0  \n",
      "30265   0.0   0.0     0     0     0   0.0     0   0.0     0  \n",
      "30266   0.0   0.0     0     0     0   0.0     0   0.0     0  \n",
      "\n",
      "[30267 rows x 2322 columns]\n",
      "[[26.384012]\n",
      " [12.291632]\n",
      " [10.401998]\n",
      " ...\n",
      " [23.569519]\n",
      " [16.444914]\n",
      " [14.997864]]\n",
      "       0     1     2     3     4     5     6     7     8     9     ...  2312  \\\n",
      "0        11  1800  1040     2     1     3     1     8    14     1  ...     0   \n",
      "1        12  1000  1110     1     1     3     1     8    14     2  ...     0   \n",
      "2        13  1700  1140     1     1     3     1     8    14     3  ...     0   \n",
      "3        13  1700  1300     1     1     3     1     8    14     5  ...     0   \n",
      "4        16  2000  1335     2     1     3     1     8    14     6  ...     0   \n",
      "...     ...   ...   ...   ...   ...   ...   ...   ...   ...   ...  ...   ...   \n",
      "30262    18  1200  1355     2     1     1     2     9     1     8  ...     0   \n",
      "30263    16  1800  1425     2     1     1     2     9     1     9  ...     0   \n",
      "30264    16  1700  1501     1     1     1     4     9     1    10  ...     0   \n",
      "30265    14  1200  1535     2     1     4     2     9     1    11  ...     0   \n",
      "30266    16  2600  1615     2     1     4     2     9     1    12  ...     0   \n",
      "\n",
      "       2313  2314  2315  2316  2317  2318  2319  2320  2321  \n",
      "0       0.0   0.0     0     0     0   0.0     0   0.0     0  \n",
      "1       0.0   0.0     0     0     0   0.0     0   0.0     0  \n",
      "2       0.0   0.0     0     0     0   0.0     0   0.0     0  \n",
      "3       0.0   0.0     0     0     0   0.0     0   0.0     0  \n",
      "4       0.0   0.0     0     0     0   0.0     0   0.0     0  \n",
      "...     ...   ...   ...   ...   ...   ...   ...   ...   ...  \n",
      "30262  35.1   8.6     5   452    -2   0.0     2  68.6   180  \n",
      "30263   0.0   0.0     0     0     0   0.0     0   0.0     0  \n",
      "30264   0.0   0.0     0     0     0   0.0     0   0.0     0  \n",
      "30265   0.0   0.0     0     0     0   0.0     0   0.0     0  \n",
      "30266   0.0   0.0     0     0     0   0.0     0   0.0     0  \n",
      "\n",
      "[30267 rows x 2322 columns]\n",
      "[[33.532143]\n",
      " [30.060247]\n",
      " [28.183643]\n",
      " ...\n",
      " [61.455143]\n",
      " [39.11663 ]\n",
      " [53.82926 ]]\n"
     ]
    }
   ],
   "source": [
    "from __future__ import print_function\n",
    "\n",
    "from keras.models import load_model\n",
    "import pandas as pd\n",
    "from sklearn import preprocessing\n",
    "import numpy\n",
    "\n",
    "def pred(target):\n",
    "    batch_size = 100\n",
    "\n",
    "    model = load_model(f'model-{target}.h5', compile=False)\n",
    "\n",
    "    x = pd.read_csv('~/dev/tknemuru/abel/resources/learnings-rage/input.csv', header=None)\n",
    "    print(x)\n",
    "    x = preprocessing.scale(x)\n",
    "\n",
    "    pred = model.predict(x, batch_size, verbose=0)\n",
    "    print(pred)\n",
    "    numpy.savetxt(f'resources/learnings-rage/pred-result-{target}.txt', pred)\n",
    "    \n",
    "pred('rage-odds')\n",
    "pred('rage-order')"
   ]
  },
  {
   "cell_type": "code",
   "execution_count": null,
   "metadata": {},
   "outputs": [],
   "source": []
  },
  {
   "cell_type": "code",
   "execution_count": null,
   "metadata": {},
   "outputs": [],
   "source": []
  },
  {
   "cell_type": "code",
   "execution_count": null,
   "metadata": {},
   "outputs": [],
   "source": []
  },
  {
   "cell_type": "code",
   "execution_count": null,
   "metadata": {},
   "outputs": [],
   "source": []
  }
 ],
 "metadata": {
  "kernelspec": {
   "display_name": "Python 3",
   "language": "python",
   "name": "python3"
  },
  "language_info": {
   "codemirror_mode": {
    "name": "ipython",
    "version": 3
   },
   "file_extension": ".py",
   "mimetype": "text/x-python",
   "name": "python",
   "nbconvert_exporter": "python",
   "pygments_lexer": "ipython3",
   "version": "3.7.5"
  }
 },
 "nbformat": 4,
 "nbformat_minor": 2
}
