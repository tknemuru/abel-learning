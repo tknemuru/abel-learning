{
 "cells": [
  {
   "cell_type": "code",
   "execution_count": 13,
   "metadata": {},
   "outputs": [
    {
     "name": "stdout",
     "output_type": "stream",
     "text": [
      "Train on 197084 samples, validate on 84465 samples\n",
      "Epoch 1/8\n",
      "197084/197084 [==============================] - 7s 34us/step - loss: 29.4064 - val_loss: 36.3081\n",
      "Epoch 2/8\n",
      "197084/197084 [==============================] - 7s 38us/step - loss: 29.3777 - val_loss: 36.2556\n",
      "Epoch 3/8\n",
      "197084/197084 [==============================] - 7s 33us/step - loss: 29.3745 - val_loss: 36.2547\n",
      "Epoch 4/8\n",
      "197084/197084 [==============================] - 6s 29us/step - loss: 29.3704 - val_loss: 36.2908\n",
      "Epoch 5/8\n",
      "197084/197084 [==============================] - 6s 29us/step - loss: 29.3722 - val_loss: 36.2931\n",
      "Epoch 6/8\n",
      "197084/197084 [==============================] - 7s 33us/step - loss: 29.3751 - val_loss: 36.2698\n",
      "Epoch 7/8\n",
      "197084/197084 [==============================] - 7s 33us/step - loss: 29.3725 - val_loss: 36.2886\n",
      "Epoch 8/8\n",
      "197084/197084 [==============================] - 7s 34us/step - loss: 29.3690 - val_loss: 36.2634\n"
     ]
    }
   ],
   "source": [
    "import numpy as np\n",
    "import pandas as pd\n",
    "from sklearn import preprocessing\n",
    "from sklearn.model_selection import train_test_split\n",
    "from keras.models import Sequential\n",
    "from keras.layers import Dense, Activation\n",
    "from keras.layers.core import Dropout\n",
    "from keras.optimizers import Adam\n",
    "from keras.initializers import TruncatedNormal\n",
    "\n",
    "sscaler = preprocessing.StandardScaler()\n",
    "#sscaler = preprocessing.RobustScaler()\n",
    "x = pd.read_csv(\"~/dev/tknemuru/abel/resources/learnings/input.csv\", header=None)\n",
    "sscaler.fit(x)\n",
    "x = sscaler.transform(x)\n",
    "y = pd.read_csv(\"~/dev/tknemuru/abel/resources/learnings/answer.csv\", header=None)\n",
    "#sscaler.fit(y)\n",
    "#y = sscaler.transform(y)\n",
    "\n",
    "# トレーニング用とテスト用を分割\n",
    "from sklearn.model_selection import train_test_split\n",
    "(x_train, x_test,\n",
    " y_train, y_test) = train_test_split(\n",
    "    x, y, test_size=0.3, random_state=0,\n",
    ")\n",
    "\n",
    "# 隠れ層\n",
    "#n_hidden = 200\n",
    "n_hidden = 138\n",
    "# 出力層\n",
    "n_out = 1\n",
    "# 学習のエポック数\n",
    "epoch = 8\n",
    "# バッチサイズ\n",
    "batch_size = 100\n",
    "# モデルの作成\n",
    "model = Sequential()\n",
    "# 入力層 から 隠れ層\n",
    "model.add(Dense(n_hidden, input_shape=(x.shape[1],), kernel_initializer=TruncatedNormal(stddev=0.01)))\n",
    "model.add(Activation('tanh'))\n",
    "model.add(Dropout(0.5))\n",
    "# 隠れ層の作成\n",
    "model.add((Dense(n_hidden,  kernel_initializer=TruncatedNormal(stddev=0.01))))\n",
    "model.add(Activation('tanh'))\n",
    "model.add(Dropout(0.5))\n",
    "# 隠れ層 から 出力層　恒等関数の使用\n",
    "model.add(Dense(n_out,  kernel_initializer=TruncatedNormal(stddev=0.01)))\n",
    "model.add(Activation('linear'))\n",
    "# 確率的勾配法　Adam\n",
    "optimizer = Adam(lr=0.001, beta_1=0.9, beta_2=0.999)\n",
    "# 損失関数　二乗和誤差\n",
    "model.compile(loss='mean_squared_error',\n",
    "              optimizer=optimizer)\n",
    "# 学習の実施\n",
    "history = model.fit(x_train, y_train,\n",
    "                    epochs=epoch,\n",
    "                    batch_size=batch_size,\n",
    "                    validation_data=(x_test, y_test)\n",
    "                    )\n",
    "    \n",
    "model.save('model-v3.h5', include_optimizer=False)"
   ]
  },
  {
   "cell_type": "code",
   "execution_count": null,
   "metadata": {},
   "outputs": [],
   "source": []
  },
  {
   "cell_type": "code",
   "execution_count": null,
   "metadata": {},
   "outputs": [],
   "source": []
  }
 ],
 "metadata": {
  "kernelspec": {
   "display_name": "Python 3",
   "language": "python",
   "name": "python3"
  },
  "language_info": {
   "codemirror_mode": {
    "name": "ipython",
    "version": 3
   },
   "file_extension": ".py",
   "mimetype": "text/x-python",
   "name": "python",
   "nbconvert_exporter": "python",
   "pygments_lexer": "ipython3",
   "version": "3.7.5"
  }
 },
 "nbformat": 4,
 "nbformat_minor": 2
}
