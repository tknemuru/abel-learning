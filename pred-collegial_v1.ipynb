{
 "cells": [
  {
   "cell_type": "code",
   "execution_count": 3,
   "metadata": {},
   "outputs": [
    {
     "name": "stdout",
     "output_type": "stream",
     "text": [
      "            0      1      2      3      4\n",
      "0     -69.847  3.269  4.374  6.191    9.0\n",
      "1      70.362  3.735  4.374  6.191  194.7\n",
      "2     -69.847  4.134  4.374  6.191   89.2\n",
      "3      70.209  2.284  4.374  6.191  101.3\n",
      "4     -69.847  3.468  4.374  6.191    2.4\n",
      "...       ...    ...    ...    ...    ...\n",
      "38594  70.370  3.900  4.570  6.223   98.5\n",
      "38595  70.370  1.825  4.570  6.223   62.2\n",
      "38596  70.369  2.865  4.570  6.223   24.7\n",
      "38597  70.370  3.238  4.570  6.223   19.8\n",
      "38598  70.370  2.300  4.570  6.223   75.0\n",
      "\n",
      "[38599 rows x 5 columns]\n",
      "[[2.0092437]\n",
      " [2.2026713]\n",
      " [2.119365 ]\n",
      " ...\n",
      " [2.161309 ]\n",
      " [2.221298 ]\n",
      " [2.029102 ]]\n"
     ]
    }
   ],
   "source": [
    "from __future__ import print_function\n",
    "\n",
    "from keras.models import load_model\n",
    "import pandas as pd\n",
    "from sklearn import preprocessing\n",
    "import numpy\n",
    "\n",
    "def pred(target):\n",
    "    batch_size = 100\n",
    "\n",
    "    model = load_model(f'model-{target}.h5', compile=False)\n",
    "\n",
    "    x = pd.read_csv('~/dev/tknemuru/abel/resources/learnings-collegial/input.csv', header=None)\n",
    "    print(x)\n",
    "    x = preprocessing.scale(x)\n",
    "\n",
    "    pred = model.predict(x, batch_size, verbose=0)\n",
    "    print(pred)\n",
    "    numpy.savetxt(f'resources/learnings-collegial/pred-result-{target}.txt', pred)\n",
    "    \n",
    "pred('collegial')"
   ]
  },
  {
   "cell_type": "code",
   "execution_count": null,
   "metadata": {},
   "outputs": [],
   "source": []
  },
  {
   "cell_type": "code",
   "execution_count": null,
   "metadata": {},
   "outputs": [],
   "source": []
  },
  {
   "cell_type": "code",
   "execution_count": null,
   "metadata": {},
   "outputs": [],
   "source": []
  },
  {
   "cell_type": "code",
   "execution_count": null,
   "metadata": {},
   "outputs": [],
   "source": []
  }
 ],
 "metadata": {
  "kernelspec": {
   "display_name": "Python 3",
   "language": "python",
   "name": "python3"
  },
  "language_info": {
   "codemirror_mode": {
    "name": "ipython",
    "version": 3
   },
   "file_extension": ".py",
   "mimetype": "text/x-python",
   "name": "python",
   "nbconvert_exporter": "python",
   "pygments_lexer": "ipython3",
   "version": "3.7.5"
  }
 },
 "nbformat": 4,
 "nbformat_minor": 2
}
