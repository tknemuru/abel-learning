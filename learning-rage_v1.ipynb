{
 "cells": [
  {
   "cell_type": "code",
   "execution_count": 7,
   "metadata": {
    "scrolled": true
   },
   "outputs": [
    {
     "name": "stdout",
     "output_type": "stream",
     "text": [
      "Train on 21186 samples, validate on 9081 samples\n",
      "Epoch 1/300\n",
      "21186/21186 [==============================] - 5s 253us/step - loss: 287.0512 - val_loss: 211.6562\n",
      "Epoch 2/300\n",
      "21186/21186 [==============================] - 5s 230us/step - loss: 223.8504 - val_loss: 191.6281\n",
      "Epoch 3/300\n",
      "21186/21186 [==============================] - 5s 224us/step - loss: 208.5537 - val_loss: 186.3891\n",
      "Epoch 4/300\n",
      "21186/21186 [==============================] - 5s 223us/step - loss: 199.8599 - val_loss: 179.6592\n",
      "Epoch 5/300\n",
      "21186/21186 [==============================] - 5s 236us/step - loss: 193.5859 - val_loss: 181.0153\n"
     ]
    }
   ],
   "source": [
    "import numpy as np\n",
    "import pandas as pd\n",
    "from sklearn import preprocessing\n",
    "from sklearn.model_selection import train_test_split\n",
    "from keras.models import Sequential\n",
    "from keras.layers import Dense, Activation\n",
    "from keras.layers.core import Dropout\n",
    "from keras.optimizers import Adam\n",
    "from keras.initializers import TruncatedNormal\n",
    "from keras.callbacks import EarlyStopping\n",
    "early_stopping = EarlyStopping(monitor='val_loss', patience=1)\n",
    "\n",
    "def learn():\n",
    "    sscaler = preprocessing.StandardScaler()\n",
    "    x = pd.read_csv('~/dev/tknemuru/abel/resources/learnings-rage/input.csv', header=None)\n",
    "    sscaler.fit(x)\n",
    "    x = sscaler.transform(x)\n",
    "    y = pd.read_csv(f'~/dev/tknemuru/abel/resources/learnings-rage/answer.csv', header=None)\n",
    "\n",
    "    # トレーニング用とテスト用を分割\n",
    "    from sklearn.model_selection import train_test_split\n",
    "    (x_train, x_test,\n",
    "     y_train, y_test) = train_test_split(\n",
    "        x, y, test_size=0.3, random_state=0,\n",
    "    )\n",
    "\n",
    "    # 隠れ層\n",
    "    n_hidden = 258\n",
    "    #n_hidden = 4000\n",
    "    # 出力層\n",
    "    n_out = 1\n",
    "    # 学習のエポック数\n",
    "    epoch = 300\n",
    "    # バッチサイズ\n",
    "    batch_size = 100\n",
    "    # モデルの作成\n",
    "    model = Sequential()\n",
    "    # 入力層 から 隠れ層\n",
    "    model.add(Dense(n_hidden, input_shape=(x.shape[1],), kernel_initializer=TruncatedNormal(stddev=0.01)))\n",
    "    model.add(Activation('tanh'))\n",
    "    model.add(Dropout(0.5))\n",
    "    # 隠れ層の作成\n",
    "    model.add((Dense(n_hidden,  kernel_initializer=TruncatedNormal(stddev=0.01))))\n",
    "    model.add(Activation('tanh'))\n",
    "    model.add(Dropout(0.5))\n",
    "    # 隠れ層 から 出力層　恒等関数の使用\n",
    "    model.add(Dense(n_out,  kernel_initializer=TruncatedNormal(stddev=0.01)))\n",
    "    model.add(Activation('linear'))\n",
    "    # 確率的勾配法　Adam\n",
    "    optimizer = Adam(lr=0.001, beta_1=0.9, beta_2=0.999)\n",
    "    # 損失関数　二乗和誤差\n",
    "    model.compile(loss='mean_squared_error',\n",
    "                  optimizer=optimizer)\n",
    "    # 学習の実施\n",
    "    history = model.fit(x_train, y_train,\n",
    "                        epochs=epoch,\n",
    "                        batch_size=batch_size,\n",
    "                        validation_data=(x_test, y_test),\n",
    "                        callbacks=[early_stopping]\n",
    "                        )\n",
    "    model.save(f'model-rage.h5', include_optimizer=False)\n",
    "\n",
    "learn()\n"
   ]
  },
  {
   "cell_type": "code",
   "execution_count": null,
   "metadata": {},
   "outputs": [],
   "source": []
  },
  {
   "cell_type": "code",
   "execution_count": null,
   "metadata": {},
   "outputs": [],
   "source": []
  }
 ],
 "metadata": {
  "kernelspec": {
   "display_name": "Python 3",
   "language": "python",
   "name": "python3"
  },
  "language_info": {
   "codemirror_mode": {
    "name": "ipython",
    "version": 3
   },
   "file_extension": ".py",
   "mimetype": "text/x-python",
   "name": "python",
   "nbconvert_exporter": "python",
   "pygments_lexer": "ipython3",
   "version": "3.7.5"
  }
 },
 "nbformat": 4,
 "nbformat_minor": 2
}
