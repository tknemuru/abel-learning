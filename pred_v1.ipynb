{
 "cells": [
  {
   "cell_type": "code",
   "execution_count": 4,
   "metadata": {},
   "outputs": [
    {
     "name": "stdout",
     "output_type": "stream",
     "text": [
      "        0   1   2   3   4   5   6   7     8      9   ...  82   83   84   85  \\\n",
      "0     1200  11   1   2   3   1   1   7  54.0   46.2  ...  61  115   87  115   \n",
      "1     1200  11   1   2   3   1   3   5  52.0   11.8  ...  71   54   68   54   \n",
      "2     1200  11   1   2   3   1   3   5  54.0    2.2  ...  65  122   67  122   \n",
      "3     1200  11   1   2   3   1   4   6  53.0  189.9  ...  72    6   70    6   \n",
      "4     1200  11   1   2   3   1   4   6  54.0   25.3  ...  69   84  109   84   \n",
      "...    ...  ..  ..  ..  ..  ..  ..  ..   ...    ...  ...  ..  ...  ...  ...   \n",
      "1475  1600   7   1   2   3   1   6   3  56.0  260.8  ...  57   69   50   69   \n",
      "1476  1600   7   1   2   3   1   7   4  57.0   21.7  ...  99   60   72   60   \n",
      "1477  1600   7   1   2   3   1   7   4  57.0   69.0  ...  74   72   18   72   \n",
      "1478  1600   7   1   2   3   1   8   4  57.0   30.3  ...  58   48   66   48   \n",
      "1479  1600   7   1   2   3   1   8   4  57.0    8.5  ...  96   72   70   72   \n",
      "\n",
      "       86   87   88   89   90   91  \n",
      "0      64  115  112  115   70  115  \n",
      "1      52   54   85   54   68   54  \n",
      "2      67  122   67  122   67  122  \n",
      "3      70    6   70   42   70   42  \n",
      "4     109   84   69   84   69   84  \n",
      "...   ...  ...  ...  ...  ...  ...  \n",
      "1475  109   69   77   69   77   69  \n",
      "1476   72   60   72   60   72   60  \n",
      "1477   74   72   74   72  133   72  \n",
      "1478   62   48   58   48   74   48  \n",
      "1479   67   72   70   72   50   72  \n",
      "\n",
      "[1480 rows x 92 columns]\n",
      "[[0.10747667 0.21080238 0.30169767 0.38002327]\n",
      " [0.29143015 0.26756236 0.2375287  0.20347883]\n",
      " [0.43577868 0.28482965 0.17507279 0.10431882]\n",
      " ...\n",
      " [0.14809431 0.25242046 0.28925288 0.31023228]\n",
      " [0.19423817 0.25879228 0.27213502 0.27483454]\n",
      " [0.41273266 0.26260144 0.18456468 0.14010113]]\n"
     ]
    }
   ],
   "source": [
    "from __future__ import print_function\n",
    "\n",
    "from keras.models import load_model\n",
    "import pandas as pd\n",
    "from sklearn import preprocessing\n",
    "import numpy\n",
    "\n",
    "batch_size = 128\n",
    "\n",
    "model = load_model('model.h5', compile=False)\n",
    "\n",
    "x = pd.read_csv(\"pred.csv\", header=None)\n",
    "print(x)\n",
    "x = preprocessing.scale(x)\n",
    "\n",
    "pred = model.predict(x, batch_size, verbose=0)\n",
    "print(pred)\n",
    "numpy.savetxt('pred-result.txt', pred)\n"
   ]
  },
  {
   "cell_type": "code",
   "execution_count": null,
   "metadata": {},
   "outputs": [],
   "source": []
  },
  {
   "cell_type": "code",
   "execution_count": null,
   "metadata": {},
   "outputs": [],
   "source": []
  },
  {
   "cell_type": "code",
   "execution_count": null,
   "metadata": {},
   "outputs": [],
   "source": []
  }
 ],
 "metadata": {
  "kernelspec": {
   "display_name": "Python 3",
   "language": "python",
   "name": "python3"
  },
  "language_info": {
   "codemirror_mode": {
    "name": "ipython",
    "version": 3
   },
   "file_extension": ".py",
   "mimetype": "text/x-python",
   "name": "python",
   "nbconvert_exporter": "python",
   "pygments_lexer": "ipython3",
   "version": "3.7.5"
  }
 },
 "nbformat": 4,
 "nbformat_minor": 2
}
