{
 "cells": [
  {
   "cell_type": "code",
   "execution_count": 17,
   "metadata": {},
   "outputs": [
    {
     "name": "stdout",
     "output_type": "stream",
     "text": [
      "[[ 0.1492269 ]\n",
      " [ 1.6312054 ]\n",
      " [-0.14992148]\n",
      " ...\n",
      " [ 0.2689668 ]\n",
      " [ 4.6594815 ]\n",
      " [ 0.09322083]]\n"
     ]
    }
   ],
   "source": [
    "from __future__ import print_function\n",
    "\n",
    "from keras.models import load_model\n",
    "import pandas as pd\n",
    "from sklearn import preprocessing\n",
    "import numpy\n",
    "\n",
    "batch_size = 128\n",
    "\n",
    "model = load_model('model-v2.h5', compile=False)\n",
    "\n",
    "sscaler = preprocessing.StandardScaler()\n",
    "x = pd.read_csv(\"resources/pred.csv\", header=None)\n",
    "sscaler.fit(x)\n",
    "x = sscaler.transform(x)\n",
    "\n",
    "pred = model.predict(x, batch_size, verbose=0)\n",
    "print(pred)\n",
    "numpy.savetxt('resources/pred-result.txt', pred)\n"
   ]
  },
  {
   "cell_type": "code",
   "execution_count": null,
   "metadata": {},
   "outputs": [],
   "source": []
  }
 ],
 "metadata": {
  "kernelspec": {
   "display_name": "Python 3",
   "language": "python",
   "name": "python3"
  },
  "language_info": {
   "codemirror_mode": {
    "name": "ipython",
    "version": 3
   },
   "file_extension": ".py",
   "mimetype": "text/x-python",
   "name": "python",
   "nbconvert_exporter": "python",
   "pygments_lexer": "ipython3",
   "version": "3.7.5"
  }
 },
 "nbformat": 4,
 "nbformat_minor": 2
}
