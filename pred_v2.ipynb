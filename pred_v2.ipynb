{
 "cells": [
  {
   "cell_type": "code",
   "execution_count": 4,
   "metadata": {},
   "outputs": [
    {
     "name": "stdout",
     "output_type": "stream",
     "text": [
      "        0   1   2   3   4   5   6   7     8   9   ...   72   73   74   75  \\\n",
      "0     1800   4   2   1   3   1   1   3  56.0   3  ...   92   76   92   76   \n",
      "1     1800   4   2   1   3   1   1   3  56.0   3  ...   66   52  227   52   \n",
      "2     1800   4   2   1   3   1   2   3  54.0   2  ...   44   48   44   48   \n",
      "3     1800   4   2   1   3   1   2   3  56.0   1  ...  227   63  227   63   \n",
      "4     1800   4   2   1   3   1   3   3  54.0   2  ...   64  101   64  101   \n",
      "...    ...  ..  ..  ..  ..  ..  ..  ..   ...  ..  ...  ...  ...  ...  ...   \n",
      "3968  2000   8   2   1   3   1   6   7  57.0   1  ...   51   28   58   28   \n",
      "3969  2000   8   2   1   3   1   7   4  55.0   3  ...   84   65   92   65   \n",
      "3970  2000   8   2   1   3   1   7   3  55.0   3  ...   56   67   67   67   \n",
      "3971  2000   8   2   1   3   1   8   4  52.0   2  ...  109   72   72   72   \n",
      "3972  2000   8   2   1   3   1   8   4  57.0   3  ...    9    7   96    7   \n",
      "\n",
      "       76   77   78   79   80  81  \n",
      "0     209   76  209   76   37  76  \n",
      "1      50   69   76   69   50  50  \n",
      "2      44   48   90   48   78  48  \n",
      "3      64   63   50   50   50  50  \n",
      "4     110  101   77  101   50  50  \n",
      "...   ...  ...  ...  ...  ...  ..  \n",
      "3968   76   28  101   28  101  28  \n",
      "3969   92   65   92   65   67  65  \n",
      "3970   71   67   95   67   90  67  \n",
      "3971   58   72   51   72   51  72  \n",
      "3972   74    7   81   69   77  69  \n",
      "\n",
      "[3973 rows x 82 columns]\n",
      "[[-0.45193267]\n",
      " [ 0.6408609 ]\n",
      " [-0.18234342]\n",
      " ...\n",
      " [ 0.16353059]\n",
      " [ 0.00845128]\n",
      " [-0.19356945]]\n"
     ]
    }
   ],
   "source": [
    "from __future__ import print_function\n",
    "\n",
    "from keras.models import load_model\n",
    "import pandas as pd\n",
    "from sklearn import preprocessing\n",
    "import numpy\n",
    "\n",
    "batch_size = 128\n",
    "\n",
    "model = load_model('model-v2.h5', compile=False)\n",
    "\n",
    "x = pd.read_csv(\"pred.csv\", header=None)\n",
    "print(x)\n",
    "x = preprocessing.scale(x)\n",
    "\n",
    "pred = model.predict(x, batch_size, verbose=0)\n",
    "print(pred)\n",
    "numpy.savetxt('pred-result.txt', pred)\n"
   ]
  },
  {
   "cell_type": "code",
   "execution_count": null,
   "metadata": {},
   "outputs": [],
   "source": []
  }
 ],
 "metadata": {
  "kernelspec": {
   "display_name": "Python 3",
   "language": "python",
   "name": "python3"
  },
  "language_info": {
   "codemirror_mode": {
    "name": "ipython",
    "version": 3
   },
   "file_extension": ".py",
   "mimetype": "text/x-python",
   "name": "python",
   "nbconvert_exporter": "python",
   "pygments_lexer": "ipython3",
   "version": "3.7.5"
  }
 },
 "nbformat": 4,
 "nbformat_minor": 2
}
