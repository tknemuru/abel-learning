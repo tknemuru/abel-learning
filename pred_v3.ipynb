{
 "cells": [
  {
   "cell_type": "code",
   "execution_count": 1,
   "metadata": {},
   "outputs": [
    {
     "name": "stderr",
     "output_type": "stream",
     "text": [
      "Using TensorFlow backend.\n"
     ]
    },
    {
     "name": "stdout",
     "output_type": "stream",
     "text": [
      "          0   1   2   3   4   5   6   7     8   9   ...   72   73  74   75  \\\n",
      "0       1800  12   1   2   3   1   1   3  52.0   2  ...   72   66  96   66   \n",
      "1       1800  12   1   2   3   1   2   5  55.0   2  ...   61   59  57   59   \n",
      "2       1800  12   1   2   3   1   3   4  55.0   2  ...   70  121  70  121   \n",
      "3       1800  12   1   2   3   1   3   4  52.0   2  ...   30   81  92   81   \n",
      "4       1800  12   1   2   3   1   4   5  55.0   2  ...   87   67  57   67   \n",
      "...      ...  ..  ..  ..  ..  ..  ..  ..   ...  ..  ...  ...  ...  ..  ...   \n",
      "154004  1700   4   1   1   3   3   6   3  56.0   3  ...   99   28  99   28   \n",
      "154005  1700   4   1   1   3   3   7   3  56.0   3  ...   72   87  72   87   \n",
      "154006  1700   4   1   1   3   3   7   3  51.0   2  ...  109   50  58   50   \n",
      "154007  1700   4   1   1   3   3   8   3  53.0   3  ...   53   99  75   99   \n",
      "154008  1700   4   1   1   3   3   8   3  56.0   3  ...   87  121  87  121   \n",
      "\n",
      "         76   77   78   79   80   81  \n",
      "0        71   66   50   50   50   50  \n",
      "1        57   59   87   59   95   59  \n",
      "2        70  121   67  121   50   50  \n",
      "3        84   81   84   81   50   50  \n",
      "4        77   67   50   50   50   50  \n",
      "...     ...  ...  ...  ...  ...  ...  \n",
      "154004   99   28   50   50   50   50  \n",
      "154005   72   87   72   87   50   50  \n",
      "154006   71   50   77   50   71   50  \n",
      "154007  115   99   52   99   68   99  \n",
      "154008  116  121  116  121  116  121  \n",
      "\n",
      "[154009 rows x 82 columns]\n",
      "[[-0.04814196]\n",
      " [ 0.39278984]\n",
      " [-0.40251565]\n",
      " ...\n",
      " [-0.16849804]\n",
      " [ 2.5656934 ]\n",
      " [-0.39280307]]\n"
     ]
    }
   ],
   "source": [
    "from __future__ import print_function\n",
    "\n",
    "from keras.models import load_model\n",
    "import pandas as pd\n",
    "from sklearn import preprocessing\n",
    "import numpy\n",
    "\n",
    "batch_size = 100\n",
    "\n",
    "model = load_model('model-v3.h5', compile=False)\n",
    "\n",
    "x = pd.read_csv(\"resources/pred.csv\", header=None)\n",
    "print(x)\n",
    "x = preprocessing.scale(x)\n",
    "\n",
    "pred = model.predict(x, batch_size, verbose=0)\n",
    "print(pred)\n",
    "numpy.savetxt('resources/pred-result.txt', pred)\n"
   ]
  },
  {
   "cell_type": "code",
   "execution_count": null,
   "metadata": {},
   "outputs": [],
   "source": []
  }
 ],
 "metadata": {
  "kernelspec": {
   "display_name": "Python 3",
   "language": "python",
   "name": "python3"
  },
  "language_info": {
   "codemirror_mode": {
    "name": "ipython",
    "version": 3
   },
   "file_extension": ".py",
   "mimetype": "text/x-python",
   "name": "python",
   "nbconvert_exporter": "python",
   "pygments_lexer": "ipython3",
   "version": "3.7.5"
  }
 },
 "nbformat": 4,
 "nbformat_minor": 2
}
