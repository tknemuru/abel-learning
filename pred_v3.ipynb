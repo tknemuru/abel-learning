{
 "cells": [
  {
   "cell_type": "code",
   "execution_count": 29,
   "metadata": {},
   "outputs": [
    {
     "name": "stdout",
     "output_type": "stream",
     "text": [
      "         0   1   2   3   4   5   6   7     8   9   ...  68  69    70     71  \\\n",
      "0      1800  12   1   2   3   1   2   5  55.0   2  ...   8   5  55.0   27.7   \n",
      "1      1800  12   1   2   3   1   5   4  52.0   2  ...   2   4  55.0   99.8   \n",
      "2      1800  12   1   2   3   1   6   4  55.0   2  ...   5   4  55.0    6.8   \n",
      "3      1800  12   1   2   3   1   6   4  55.0   2  ...   7   4  55.0   17.7   \n",
      "4      1800  12   1   2   3   1   8   3  50.0   2  ...   7   3  54.0   79.3   \n",
      "...     ...  ..  ..  ..  ..  ..  ..  ..   ...  ..  ...  ..  ..   ...    ...   \n",
      "94221  1700   4   1   1   3   3   5   3  56.0   3  ...   3   3  56.0   12.0   \n",
      "94222  1700   4   1   1   3   3   5   3  56.0   3  ...   3   3  56.0  186.8   \n",
      "94223  1700   4   1   1   3   3   7   3  51.0   2  ...   4   3  54.0   76.3   \n",
      "94224  1700   4   1   1   3   3   8   3  53.0   3  ...   4   3  56.0  195.9   \n",
      "94225  1700   4   1   1   3   3   8   3  56.0   3  ...   3   3  56.0   13.6   \n",
      "\n",
      "       72  73     74   75   76  77  \n",
      "0       7   2  121.3  180  482   0  \n",
      "1       8   2  150.0  120  448  -4  \n",
      "2       4   2  114.5   -1  474  12  \n",
      "3       6   2   98.7  300  456   4  \n",
      "4      12   2  108.7  240  446  -4  \n",
      "...    ..  ..    ...  ...  ...  ..  \n",
      "94221   6   3  115.9  120  490  -6  \n",
      "94222  13   3   87.3  300  458   0  \n",
      "94223  11   2   73.2  120  438  12  \n",
      "94224  11   3   74.9  300  464  10  \n",
      "94225   5   3  110.1  420  436  -6  \n",
      "\n",
      "[94226 rows x 78 columns]\n",
      "[[0.5603579 ]\n",
      " [0.4045836 ]\n",
      " [0.81681967]\n",
      " ...\n",
      " [0.68832463]\n",
      " [0.4318577 ]\n",
      " [0.9334136 ]]\n"
     ]
    }
   ],
   "source": [
    "from __future__ import print_function\n",
    "\n",
    "from keras.models import load_model\n",
    "import pandas as pd\n",
    "from sklearn import preprocessing\n",
    "import numpy\n",
    "\n",
    "batch_size = 100\n",
    "\n",
    "model = load_model('model-v3.h5', compile=False)\n",
    "\n",
    "x = pd.read_csv(\"~/dev/tknemuru/abel/resources/learnings/input.csv\", header=None)\n",
    "print(x)\n",
    "x = preprocessing.scale(x)\n",
    "\n",
    "pred = model.predict(x, batch_size, verbose=0)\n",
    "print(pred)\n",
    "numpy.savetxt('resources/pred-result.txt', pred)\n"
   ]
  },
  {
   "cell_type": "code",
   "execution_count": null,
   "metadata": {},
   "outputs": [],
   "source": []
  }
 ],
 "metadata": {
  "kernelspec": {
   "display_name": "Python 3",
   "language": "python",
   "name": "python3"
  },
  "language_info": {
   "codemirror_mode": {
    "name": "ipython",
    "version": 3
   },
   "file_extension": ".py",
   "mimetype": "text/x-python",
   "name": "python",
   "nbconvert_exporter": "python",
   "pygments_lexer": "ipython3",
   "version": "3.7.5"
  }
 },
 "nbformat": 4,
 "nbformat_minor": 2
}
