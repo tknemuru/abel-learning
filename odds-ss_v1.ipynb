{
 "cells": [
  {
   "cell_type": "code",
   "execution_count": 3,
   "metadata": {},
   "outputs": [],
   "source": [
    "import keras\n",
    "import pandas as pd\n",
    "import numpy as np\n",
    "from sklearn import preprocessing\n",
    "\n",
    "sscaler = preprocessing.StandardScaler()\n",
    "allOdds = pd.read_csv(\"resources/all-odds.csv\", header=None)\n",
    "sscaler.fit(allOdds)\n",
    "odds = pd.read_csv(\"resources/odds.csv\", header=None)\n",
    "odds = sscaler.transform(odds)\n",
    "np.savetxt('resources/odds.txt', odds)"
   ]
  },
  {
   "cell_type": "code",
   "execution_count": null,
   "metadata": {},
   "outputs": [],
   "source": []
  }
 ],
 "metadata": {
  "kernelspec": {
   "display_name": "Python 3",
   "language": "python",
   "name": "python3"
  },
  "language_info": {
   "codemirror_mode": {
    "name": "ipython",
    "version": 3
   },
   "file_extension": ".py",
   "mimetype": "text/x-python",
   "name": "python",
   "nbconvert_exporter": "python",
   "pygments_lexer": "ipython3",
   "version": "3.7.5"
  }
 },
 "nbformat": 4,
 "nbformat_minor": 2
}
