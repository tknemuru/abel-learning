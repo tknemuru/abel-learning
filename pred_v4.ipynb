{
 "cells": [
  {
   "cell_type": "code",
   "execution_count": 5,
   "metadata": {},
   "outputs": [
    {
     "name": "stdout",
     "output_type": "stream",
     "text": [
      "        0     1     2    3    4    5    6    7    8    9    ...  119   120  \\\n",
      "0        11  1800  1040    2    1    3    1    8   14    1  ...    0   0.0   \n",
      "1        11  1800  1040    2    1    3    1    8   14    1  ...    0   0.0   \n",
      "2        11  1800  1040    2    1    3    1    8   14    1  ...    0   0.0   \n",
      "3        11  1800  1040    2    1    3    1    8   14    1  ...    0   0.0   \n",
      "4        11  1800  1040    2    1    3    1    8   14    1  ...    0   0.0   \n",
      "...     ...   ...   ...  ...  ...  ...  ...  ...  ...  ...  ...  ...   ...   \n",
      "433769   16  2600  1615    2    1    4    2    9    1   12  ...    3  36.0   \n",
      "433770   16  2600  1615    2    1    4    2    9    1   12  ...    9  35.4   \n",
      "433771   16  2600  1615    2    1    4    2    9    1   12  ...    3  36.1   \n",
      "433772   16  2600  1615    2    1    4    2    9    1   12  ...   13  37.8   \n",
      "433773   16  2600  1615    2    1    4    2    9    1   12  ...    0   0.0   \n",
      "\n",
      "         121  122  123  124    125  126    127  128  \n",
      "0        0.0    0    0    0    0.0    0    0.0    0  \n",
      "1        0.0    0    0    0    0.0    0    0.0    0  \n",
      "2        0.0    0    0    0    0.0    0    0.0    0  \n",
      "3        0.0    0    0    0    0.0    0    0.0    0  \n",
      "4        0.0    0    0    0    0.0    0    0.0    0  \n",
      "...      ...  ...  ...  ...    ...  ...    ...  ...  \n",
      "433769   1.8    1  468    0   75.0    2  123.9  120  \n",
      "433770   7.0    4  478   -4  190.0    3  161.7  240  \n",
      "433771   2.5    1  472    4   50.0    3  146.7   80  \n",
      "433772  24.0    8  506    2    0.0    3  163.3  240  \n",
      "433773   0.0    0    0    0    0.0    0    0.0    0  \n",
      "\n",
      "[433774 rows x 129 columns]\n",
      "[[72.3368  ]\n",
      " [72.896416]\n",
      " [84.7147  ]\n",
      " ...\n",
      " [83.84881 ]\n",
      " [84.37127 ]\n",
      " [47.98991 ]]\n",
      "        0     1     2    3    4    5    6    7    8    9    ...  119   120  \\\n",
      "0        11  1800  1040    2    1    3    1    8   14    1  ...    0   0.0   \n",
      "1        11  1800  1040    2    1    3    1    8   14    1  ...    0   0.0   \n",
      "2        11  1800  1040    2    1    3    1    8   14    1  ...    0   0.0   \n",
      "3        11  1800  1040    2    1    3    1    8   14    1  ...    0   0.0   \n",
      "4        11  1800  1040    2    1    3    1    8   14    1  ...    0   0.0   \n",
      "...     ...   ...   ...  ...  ...  ...  ...  ...  ...  ...  ...  ...   ...   \n",
      "433769   16  2600  1615    2    1    4    2    9    1   12  ...    3  36.0   \n",
      "433770   16  2600  1615    2    1    4    2    9    1   12  ...    9  35.4   \n",
      "433771   16  2600  1615    2    1    4    2    9    1   12  ...    3  36.1   \n",
      "433772   16  2600  1615    2    1    4    2    9    1   12  ...   13  37.8   \n",
      "433773   16  2600  1615    2    1    4    2    9    1   12  ...    0   0.0   \n",
      "\n",
      "         121  122  123  124    125  126    127  128  \n",
      "0        0.0    0    0    0    0.0    0    0.0    0  \n",
      "1        0.0    0    0    0    0.0    0    0.0    0  \n",
      "2        0.0    0    0    0    0.0    0    0.0    0  \n",
      "3        0.0    0    0    0    0.0    0    0.0    0  \n",
      "4        0.0    0    0    0    0.0    0    0.0    0  \n",
      "...      ...  ...  ...  ...    ...  ...    ...  ...  \n",
      "433769   1.8    1  468    0   75.0    2  123.9  120  \n",
      "433770   7.0    4  478   -4  190.0    3  161.7  240  \n",
      "433771   2.5    1  472    4   50.0    3  146.7   80  \n",
      "433772  24.0    8  506    2    0.0    3  163.3  240  \n",
      "433773   0.0    0    0    0    0.0    0    0.0    0  \n",
      "\n",
      "[433774 rows x 129 columns]\n",
      "[[3.4103417]\n",
      " [3.6169658]\n",
      " [3.8485394]\n",
      " ...\n",
      " [2.2442296]\n",
      " [2.610248 ]\n",
      " [2.4288259]]\n"
     ]
    }
   ],
   "source": [
    "from __future__ import print_function\n",
    "\n",
    "from keras.models import load_model\n",
    "import pandas as pd\n",
    "from sklearn import preprocessing\n",
    "import numpy\n",
    "\n",
    "def pred(target):\n",
    "    batch_size = 100\n",
    "\n",
    "    model = load_model(f'model-{target}.h5', compile=False)\n",
    "\n",
    "    x = pd.read_csv(f'~/dev/tknemuru/abel/resources/learnings/input.csv', header=None)\n",
    "    print(x)\n",
    "    x = preprocessing.scale(x)\n",
    "\n",
    "    pred = model.predict(x, batch_size, verbose=0)\n",
    "    print(pred)\n",
    "    numpy.savetxt(f'resources/learnings/pred-result-{target}.txt', pred)\n",
    "    \n",
    "pred('earning-money')\n",
    "pred('recovery-rate')\n"
   ]
  },
  {
   "cell_type": "code",
   "execution_count": null,
   "metadata": {},
   "outputs": [],
   "source": []
  },
  {
   "cell_type": "code",
   "execution_count": null,
   "metadata": {},
   "outputs": [],
   "source": []
  },
  {
   "cell_type": "code",
   "execution_count": null,
   "metadata": {},
   "outputs": [],
   "source": []
  },
  {
   "cell_type": "code",
   "execution_count": null,
   "metadata": {},
   "outputs": [],
   "source": []
  }
 ],
 "metadata": {
  "kernelspec": {
   "display_name": "Python 3",
   "language": "python",
   "name": "python3"
  },
  "language_info": {
   "codemirror_mode": {
    "name": "ipython",
    "version": 3
   },
   "file_extension": ".py",
   "mimetype": "text/x-python",
   "name": "python",
   "nbconvert_exporter": "python",
   "pygments_lexer": "ipython3",
   "version": "3.7.5"
  }
 },
 "nbformat": 4,
 "nbformat_minor": 2
}
