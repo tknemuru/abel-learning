{
 "cells": [
  {
   "cell_type": "code",
   "execution_count": 19,
   "metadata": {},
   "outputs": [
    {
     "name": "stdout",
     "output_type": "stream",
     "text": [
      "Model: \"sequential_16\"\n",
      "_________________________________________________________________\n",
      "Layer (type)                 Output Shape              Param #   \n",
      "=================================================================\n",
      "dense_30 (Dense)             (None, 56)                4648      \n",
      "_________________________________________________________________\n",
      "activation_15 (Activation)   (None, 56)                0         \n",
      "_________________________________________________________________\n",
      "dense_31 (Dense)             (None, 1)                 57        \n",
      "=================================================================\n",
      "Total params: 4,705\n",
      "Trainable params: 4,705\n",
      "Non-trainable params: 0\n",
      "_________________________________________________________________\n",
      "Train on 91142 samples, validate on 39061 samples\n",
      "Epoch 1/100\n",
      "91142/91142 [==============================] - 1s 12us/step - loss: 0.8161 - accuracy: 0.0000e+00 - val_loss: 0.8518 - val_accuracy: 0.0000e+00\n",
      "Epoch 2/100\n",
      "91142/91142 [==============================] - 1s 11us/step - loss: 0.7904 - accuracy: 0.0000e+00 - val_loss: 0.7475 - val_accuracy: 0.0000e+00\n",
      "Epoch 3/100\n",
      "91142/91142 [==============================] - 1s 10us/step - loss: 0.7724 - accuracy: 0.0000e+00 - val_loss: 0.7273 - val_accuracy: 0.0000e+00\n",
      "Epoch 4/100\n",
      "91142/91142 [==============================] - 1s 10us/step - loss: 0.7517 - accuracy: 0.0000e+00 - val_loss: 0.7320 - val_accuracy: 0.0000e+00\n",
      "Test loss: 0.7320119958176462\n",
      "Test accuracy: 0.0\n",
      "Neural Network RMS 0.8555769966158546\n"
     ]
    }
   ],
   "source": [
    "import keras\n",
    "import pandas as pd\n",
    "import numpy as np\n",
    "from sklearn import preprocessing\n",
    "from keras.models import Sequential\n",
    "from keras.layers import Activation, Dense, Dropout\n",
    "from keras.optimizers import SGD\n",
    "from keras.callbacks import EarlyStopping\n",
    "\n",
    "x = pd.read_csv(\"input.csv\", header=None)\n",
    "x = preprocessing.scale(x)\n",
    "y = pd.read_csv(\"answer.csv\", header=None)\n",
    "y = preprocessing.scale(y)\n",
    "\n",
    "# トレーニング用とテスト用を分割\n",
    "from sklearn.model_selection import train_test_split\n",
    "(x_train, x_test,\n",
    " y_train, y_test) = train_test_split(\n",
    "    x, y, test_size=0.3, random_state=0,\n",
    ")\n",
    "\n",
    "model = Sequential()\n",
    "model.add(Dense(units = 56, input_dim = x.shape[1]))\n",
    "model.add(Activation(\"sigmoid\"))\n",
    "#出力層．次元1，つまり一つの値を出力する．\n",
    "model.add(Dense(units = 1))\n",
    " \n",
    "model.summary()\n",
    "model.compile(loss = 'mean_squared_error',\n",
    "optimizer = SGD(lr = 0.01, momentum = 0.9, nesterov = True),\n",
    "metrics=['accuracy'])\n",
    "history = model.fit(x_train, y_train, epochs = 100, batch_size = 128,\n",
    "validation_data=(x_test, y_test), callbacks = [EarlyStopping()])\n",
    "#validation_data=(x_test, y_test))\n",
    "score = model.evaluate(x_test, y_test, verbose = 0)\n",
    "print('Test loss:', score[0])\n",
    "print('Test accuracy:', score[1])\n",
    "y_pred = model.predict(x_test)\n",
    "rms = (np.mean((y_test - y_pred) ** 2)) ** 0.5\n",
    "print(\"Neural Network RMS\", rms)\n",
    "\n",
    "model.save('model-v2.h5', include_optimizer=False)\n"
   ]
  },
  {
   "cell_type": "code",
   "execution_count": null,
   "metadata": {},
   "outputs": [],
   "source": []
  },
  {
   "cell_type": "code",
   "execution_count": null,
   "metadata": {},
   "outputs": [],
   "source": []
  }
 ],
 "metadata": {
  "kernelspec": {
   "display_name": "Python 3",
   "language": "python",
   "name": "python3"
  },
  "language_info": {
   "codemirror_mode": {
    "name": "ipython",
    "version": 3
   },
   "file_extension": ".py",
   "mimetype": "text/x-python",
   "name": "python",
   "nbconvert_exporter": "python",
   "pygments_lexer": "ipython3",
   "version": "3.7.5"
  }
 },
 "nbformat": 4,
 "nbformat_minor": 2
}
