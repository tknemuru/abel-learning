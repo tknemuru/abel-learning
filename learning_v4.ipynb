{
 "cells": [
  {
   "cell_type": "code",
   "execution_count": 9,
   "metadata": {
    "scrolled": true
   },
   "outputs": [
    {
     "name": "stdout",
     "output_type": "stream",
     "text": [
      "Train on 302841 samples, validate on 129789 samples\n",
      "Epoch 1/1\n",
      "302841/302841 [==============================] - 11s 37us/step - loss: 348372.3034 - val_loss: 333641.2067\n",
      "Train on 302841 samples, validate on 129789 samples\n",
      "Epoch 1/1\n",
      "302841/302841 [==============================] - 12s 39us/step - loss: 75793.2655 - val_loss: 67742.9833\n",
      "Train on 302841 samples, validate on 129789 samples\n",
      "Epoch 1/1\n",
      "302841/302841 [==============================] - 12s 38us/step - loss: 3020313.6436 - val_loss: 3163768.9774\n",
      "Train on 302841 samples, validate on 129789 samples\n",
      "Epoch 1/1\n",
      "302841/302841 [==============================] - 11s 37us/step - loss: 38188262.9009 - val_loss: 32919401.3978\n",
      "Train on 302841 samples, validate on 129789 samples\n",
      "Epoch 1/1\n",
      "302841/302841 [==============================] - 14s 45us/step - loss: 3003480.6095 - val_loss: 2772673.0285\n",
      "Train on 302841 samples, validate on 129789 samples\n",
      "Epoch 1/1\n",
      "302841/302841 [==============================] - 12s 39us/step - loss: 1674844319.9624 - val_loss: 1848571413.0089\n"
     ]
    }
   ],
   "source": [
    "import numpy as np\n",
    "import pandas as pd\n",
    "from sklearn import preprocessing\n",
    "from sklearn.model_selection import train_test_split\n",
    "from keras.models import Sequential\n",
    "from keras.layers import Dense, Activation\n",
    "from keras.layers.core import Dropout\n",
    "from keras.optimizers import Adam\n",
    "from keras.initializers import TruncatedNormal\n",
    "\n",
    "def learn(target):\n",
    "    sscaler = preprocessing.StandardScaler()\n",
    "    x = pd.read_csv('~/dev/tknemuru/abel/resources/learnings/input.csv', header=None)\n",
    "    sscaler.fit(x)\n",
    "    x = sscaler.transform(x)\n",
    "    y = pd.read_csv(f'~/dev/tknemuru/abel/resources/learnings/answer-{target}.csv', header=None)\n",
    "\n",
    "    # トレーニング用とテスト用を分割\n",
    "    from sklearn.model_selection import train_test_split\n",
    "    (x_train, x_test,\n",
    "     y_train, y_test) = train_test_split(\n",
    "        x, y, test_size=0.3, random_state=0,\n",
    "    )\n",
    "\n",
    "    # 隠れ層\n",
    "    n_hidden = 258\n",
    "    #n_hidden = 138\n",
    "    # 出力層\n",
    "    n_out = 1\n",
    "    # 学習のエポック数\n",
    "    epoch = 1\n",
    "    # バッチサイズ\n",
    "    batch_size = 100\n",
    "    # モデルの作成\n",
    "    model = Sequential()\n",
    "    # 入力層 から 隠れ層\n",
    "    model.add(Dense(n_hidden, input_shape=(x.shape[1],), kernel_initializer=TruncatedNormal(stddev=0.01)))\n",
    "    model.add(Activation('tanh'))\n",
    "    model.add(Dropout(0.5))\n",
    "    # 隠れ層の作成\n",
    "    model.add((Dense(n_hidden,  kernel_initializer=TruncatedNormal(stddev=0.01))))\n",
    "    model.add(Activation('tanh'))\n",
    "    model.add(Dropout(0.5))\n",
    "    # 隠れ層 から 出力層　恒等関数の使用\n",
    "    model.add(Dense(n_out,  kernel_initializer=TruncatedNormal(stddev=0.01)))\n",
    "    model.add(Activation('linear'))\n",
    "    # 確率的勾配法　Adam\n",
    "    optimizer = Adam(lr=0.001, beta_1=0.9, beta_2=0.999)\n",
    "    # 損失関数　二乗和誤差\n",
    "    model.compile(loss='mean_squared_error',\n",
    "                  optimizer=optimizer)\n",
    "    # 学習の実施\n",
    "    history = model.fit(x_train, y_train,\n",
    "                        epochs=epoch,\n",
    "                        batch_size=batch_size,\n",
    "                        validation_data=(x_test, y_test)\n",
    "                        )\n",
    "    model.save(f'model-{target}.h5', include_optimizer=False)\n",
    "\n",
    "learn('tan')\n",
    "learn('fuku')\n",
    "learn('waku')\n",
    "learn('uren')\n",
    "learn('wide')\n",
    "learn('sanfuku')"
   ]
  },
  {
   "cell_type": "code",
   "execution_count": null,
   "metadata": {},
   "outputs": [],
   "source": []
  }
 ],
 "metadata": {
  "kernelspec": {
   "display_name": "Python 3",
   "language": "python",
   "name": "python3"
  },
  "language_info": {
   "codemirror_mode": {
    "name": "ipython",
    "version": 3
   },
   "file_extension": ".py",
   "mimetype": "text/x-python",
   "name": "python",
   "nbconvert_exporter": "python",
   "pygments_lexer": "ipython3",
   "version": "3.7.5"
  }
 },
 "nbformat": 4,
 "nbformat_minor": 2
}
